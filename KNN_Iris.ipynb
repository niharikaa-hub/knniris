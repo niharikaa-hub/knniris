{
  "nbformat": 4,
  "nbformat_minor": 0,
  "metadata": {
    "colab": {
      "provenance": []
    },
    "kernelspec": {
      "name": "python3",
      "display_name": "Python 3"
    },
    "language_info": {
      "name": "python"
    }
  },
  "cells": [
    {
      "cell_type": "code",
      "execution_count": null,
      "metadata": {
        "colab": {
          "base_uri": "https://localhost:8080/"
        },
        "id": "ek2wVcEon5k8",
        "outputId": "c852450e-74da-4ac9-ca83-f37a6beca44e"
      },
      "outputs": [
        {
          "output_type": "stream",
          "name": "stdout",
          "text": [
            "Accuracy: 1.0\n",
            "\n",
            "Correct and Wrong Predictions:\n",
            "Instance 1: Actual: 1, Predicted: 1 (Correct)\n",
            "Instance 2: Actual: 0, Predicted: 0 (Correct)\n",
            "Instance 3: Actual: 2, Predicted: 2 (Correct)\n",
            "Instance 4: Actual: 1, Predicted: 1 (Correct)\n",
            "Instance 5: Actual: 1, Predicted: 1 (Correct)\n",
            "Instance 6: Actual: 0, Predicted: 0 (Correct)\n",
            "Instance 7: Actual: 1, Predicted: 1 (Correct)\n",
            "Instance 8: Actual: 2, Predicted: 2 (Correct)\n",
            "Instance 9: Actual: 1, Predicted: 1 (Correct)\n",
            "Instance 10: Actual: 1, Predicted: 1 (Correct)\n",
            "Instance 11: Actual: 2, Predicted: 2 (Correct)\n",
            "Instance 12: Actual: 0, Predicted: 0 (Correct)\n",
            "Instance 13: Actual: 0, Predicted: 0 (Correct)\n",
            "Instance 14: Actual: 0, Predicted: 0 (Correct)\n",
            "Instance 15: Actual: 0, Predicted: 0 (Correct)\n",
            "Instance 16: Actual: 1, Predicted: 1 (Correct)\n",
            "Instance 17: Actual: 2, Predicted: 2 (Correct)\n",
            "Instance 18: Actual: 1, Predicted: 1 (Correct)\n",
            "Instance 19: Actual: 1, Predicted: 1 (Correct)\n",
            "Instance 20: Actual: 2, Predicted: 2 (Correct)\n",
            "Instance 21: Actual: 0, Predicted: 0 (Correct)\n",
            "Instance 22: Actual: 2, Predicted: 2 (Correct)\n",
            "Instance 23: Actual: 0, Predicted: 0 (Correct)\n",
            "Instance 24: Actual: 2, Predicted: 2 (Correct)\n",
            "Instance 25: Actual: 2, Predicted: 2 (Correct)\n",
            "Instance 26: Actual: 2, Predicted: 2 (Correct)\n",
            "Instance 27: Actual: 2, Predicted: 2 (Correct)\n",
            "Instance 28: Actual: 2, Predicted: 2 (Correct)\n",
            "Instance 29: Actual: 0, Predicted: 0 (Correct)\n",
            "Instance 30: Actual: 0, Predicted: 0 (Correct)\n",
            "Instance 31: Actual: 0, Predicted: 0 (Correct)\n",
            "Instance 32: Actual: 0, Predicted: 0 (Correct)\n",
            "Instance 33: Actual: 1, Predicted: 1 (Correct)\n",
            "Instance 34: Actual: 0, Predicted: 0 (Correct)\n",
            "Instance 35: Actual: 0, Predicted: 0 (Correct)\n",
            "Instance 36: Actual: 2, Predicted: 2 (Correct)\n",
            "Instance 37: Actual: 1, Predicted: 1 (Correct)\n",
            "Instance 38: Actual: 0, Predicted: 0 (Correct)\n",
            "Instance 39: Actual: 0, Predicted: 0 (Correct)\n",
            "Instance 40: Actual: 0, Predicted: 0 (Correct)\n",
            "Instance 41: Actual: 2, Predicted: 2 (Correct)\n",
            "Instance 42: Actual: 1, Predicted: 1 (Correct)\n",
            "Instance 43: Actual: 1, Predicted: 1 (Correct)\n",
            "Instance 44: Actual: 0, Predicted: 0 (Correct)\n",
            "Instance 45: Actual: 0, Predicted: 0 (Correct)\n"
          ]
        }
      ],
      "source": [
        "import numpy as np\n",
        "from sklearn.model_selection import train_test_split\n",
        "from sklearn.datasets import load_iris\n",
        "from sklearn.neighbors import KNeighborsClassifier\n",
        "from sklearn.metrics import accuracy_score\n",
        "\n",
        "# Load the Iris dataset\n",
        "iris = load_iris()\n",
        "X = iris.data  # Features\n",
        "y = iris.target  # Target variable (species)\n",
        "\n",
        "# Split data into training and testing sets\n",
        "X_train, X_test, y_train, y_test = train_test_split(X, y, test_size=0.3, random_state=42)\n",
        "\n",
        "# Create a k-NN classifier with k=5 (you can adjust k)\n",
        "knn = KNeighborsClassifier(n_neighbors=5)\n",
        "\n",
        "# Train the classifier\n",
        "knn.fit(X_train, y_train)\n",
        "\n",
        "# Make predictions on the test set\n",
        "y_pred = knn.predict(X_test)\n",
        "\n",
        "# Calculate accuracy\n",
        "accuracy = accuracy_score(y_test, y_pred)\n",
        "print(f\"Accuracy: {accuracy}\")\n",
        "\n",
        "# Print correct and wrong predictions\n",
        "print(\"\\nCorrect and Wrong Predictions:\")\n",
        "for i in range(len(y_test)):\n",
        "    if y_test[i] == y_pred[i]:\n",
        "        print(f\"Instance {i + 1}: Actual: {y_test[i]}, Predicted: {y_pred[i]} (Correct)\")\n",
        "    else:\n",
        "        print(f\"Instance {i + 1}: Actual: {y_test[i]}, Predicted: {y_pred[i]} (Wrong)\")"
      ]
    }
  ]
}